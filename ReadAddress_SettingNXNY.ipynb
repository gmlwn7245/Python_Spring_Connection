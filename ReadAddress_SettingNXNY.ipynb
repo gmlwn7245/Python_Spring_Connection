{
 "cells": [
  {
   "cell_type": "code",
   "execution_count": 1,
   "metadata": {},
   "outputs": [],
   "source": [
    "import pandas as pd "
   ]
  },
  {
   "cell_type": "code",
   "execution_count": 3,
   "metadata": {},
   "outputs": [],
   "source": [
    "# 같은 폴더 내에 위치\n",
    "filename = 'data_nxny.xlsx'"
   ]
  },
  {
   "cell_type": "code",
   "execution_count": 4,
   "metadata": {},
   "outputs": [],
   "source": [
    "df = pd.read_excel(filename, engine='openpyxl')"
   ]
  },
  {
   "cell_type": "markdown",
   "metadata": {},
   "source": [
    "### 변수 설명\n",
    "* 시 : region1\n",
    "* 구 : region2\n",
    "* 동 : region3"
   ]
  },
  {
   "cell_type": "code",
   "execution_count": 11,
   "metadata": {},
   "outputs": [],
   "source": [
    "region1 = '서울특별시'\n",
    "region2 = '종로구'\n",
    "region3 = '사직동'"
   ]
  },
  {
   "cell_type": "code",
   "execution_count": 20,
   "metadata": {},
   "outputs": [],
   "source": [
    "data = df[(df['1단계']==region1) & (df['2단계']==region2) & (df['3단계']==region3)]"
   ]
  },
  {
   "cell_type": "code",
   "execution_count": 21,
   "metadata": {
    "scrolled": true
   },
   "outputs": [
    {
     "data": {
      "text/html": [
       "<div>\n",
       "<style scoped>\n",
       "    .dataframe tbody tr th:only-of-type {\n",
       "        vertical-align: middle;\n",
       "    }\n",
       "\n",
       "    .dataframe tbody tr th {\n",
       "        vertical-align: top;\n",
       "    }\n",
       "\n",
       "    .dataframe thead th {\n",
       "        text-align: right;\n",
       "    }\n",
       "</style>\n",
       "<table border=\"1\" class=\"dataframe\">\n",
       "  <thead>\n",
       "    <tr style=\"text-align: right;\">\n",
       "      <th></th>\n",
       "      <th>구분</th>\n",
       "      <th>행정구역코드</th>\n",
       "      <th>1단계</th>\n",
       "      <th>2단계</th>\n",
       "      <th>3단계</th>\n",
       "      <th>격자 X</th>\n",
       "      <th>격자 Y</th>\n",
       "      <th>경도(시)</th>\n",
       "      <th>경도(분)</th>\n",
       "      <th>경도(초)</th>\n",
       "      <th>위도(시)</th>\n",
       "      <th>위도(분)</th>\n",
       "      <th>위도(초)</th>\n",
       "      <th>경도(초/100)</th>\n",
       "      <th>위도(초/100)</th>\n",
       "      <th>위치업데이트</th>\n",
       "      <th>Unnamed: 16</th>\n",
       "    </tr>\n",
       "  </thead>\n",
       "  <tbody>\n",
       "    <tr>\n",
       "      <th>3</th>\n",
       "      <td>kor</td>\n",
       "      <td>1111053000</td>\n",
       "      <td>서울특별시</td>\n",
       "      <td>종로구</td>\n",
       "      <td>사직동</td>\n",
       "      <td>60</td>\n",
       "      <td>127</td>\n",
       "      <td>126</td>\n",
       "      <td>58</td>\n",
       "      <td>15.44</td>\n",
       "      <td>37</td>\n",
       "      <td>34</td>\n",
       "      <td>23.77</td>\n",
       "      <td>126.970956</td>\n",
       "      <td>37.573269</td>\n",
       "      <td>NaN</td>\n",
       "      <td>NaN</td>\n",
       "    </tr>\n",
       "  </tbody>\n",
       "</table>\n",
       "</div>"
      ],
      "text/plain": [
       "    구분      행정구역코드    1단계  2단계  3단계  격자 X  격자 Y  경도(시)  경도(분)  경도(초)  위도(시)  \\\n",
       "3  kor  1111053000  서울특별시  종로구  사직동    60   127    126     58  15.44     37   \n",
       "\n",
       "   위도(분)  위도(초)   경도(초/100)  위도(초/100)  위치업데이트  Unnamed: 16  \n",
       "3     34  23.77  126.970956  37.573269     NaN          NaN  "
      ]
     },
     "execution_count": 21,
     "metadata": {},
     "output_type": "execute_result"
    }
   ],
   "source": [
    "data"
   ]
  },
  {
   "cell_type": "code",
   "execution_count": 41,
   "metadata": {},
   "outputs": [],
   "source": [
    "nx = (data['격자 X'].values)[0]\n",
    "ny = (data['격자 Y'].values)[0]"
   ]
  },
  {
   "cell_type": "code",
   "execution_count": 43,
   "metadata": {},
   "outputs": [
    {
     "name": "stdout",
     "output_type": "stream",
     "text": [
      "60 127\n"
     ]
    }
   ],
   "source": [
    "print( nx, ny )"
   ]
  },
  {
   "cell_type": "markdown",
   "metadata": {},
   "source": [
    "## DB에서 정보 가져와서 nx,ny 리턴"
   ]
  },
  {
   "cell_type": "code",
   "execution_count": 50,
   "metadata": {},
   "outputs": [],
   "source": [
    "import pymysql"
   ]
  },
  {
   "cell_type": "code",
   "execution_count": 53,
   "metadata": {},
   "outputs": [],
   "source": [
    "conn = pymysql.connect(\"--DB정보--\")\n",
    "cursor = conn.cursor()"
   ]
  },
  {
   "cell_type": "code",
   "execution_count": 57,
   "metadata": {},
   "outputs": [],
   "source": [
    "sql = 'SELECT * FROM address limit 1'\n",
    "cursor.execute(sql)\n",
    "address = cursor.fetchall()"
   ]
  },
  {
   "cell_type": "code",
   "execution_count": 58,
   "metadata": {},
   "outputs": [
    {
     "data": {
      "text/plain": [
       "(('서울특별시', '종로구', '사직동'),)"
      ]
     },
     "execution_count": 58,
     "metadata": {},
     "output_type": "execute_result"
    }
   ],
   "source": [
    "address"
   ]
  },
  {
   "cell_type": "code",
   "execution_count": 56,
   "metadata": {},
   "outputs": [],
   "source": [
    "region1 = data[0][0]\n",
    "region2 = data[0][1]\n",
    "region3 = data[0][2]"
   ]
  },
  {
   "cell_type": "code",
   "execution_count": 59,
   "metadata": {},
   "outputs": [],
   "source": [
    "data = df[(df['1단계']==region1) & (df['2단계']==region2) & (df['3단계']==region3)]"
   ]
  },
  {
   "cell_type": "code",
   "execution_count": 60,
   "metadata": {},
   "outputs": [],
   "source": [
    "nx = (data['격자 X'].values)[0]\n",
    "ny = (data['격자 Y'].values)[0]"
   ]
  },
  {
   "cell_type": "code",
   "execution_count": 61,
   "metadata": {},
   "outputs": [
    {
     "data": {
      "text/plain": [
       "1"
      ]
     },
     "execution_count": 61,
     "metadata": {},
     "output_type": "execute_result"
    }
   ],
   "source": [
    "sql = '''INSERT INTO nxny VALUES(%s,%s)'''\n",
    "cursor.execute(sql, (nx,ny))"
   ]
  },
  {
   "cell_type": "code",
   "execution_count": 62,
   "metadata": {},
   "outputs": [],
   "source": [
    "conn.commit()\n",
    "conn.close()"
   ]
  }
 ],
 "metadata": {
  "kernelspec": {
   "display_name": "Python 3",
   "language": "python",
   "name": "python3"
  },
  "language_info": {
   "codemirror_mode": {
    "name": "ipython",
    "version": 3
   },
   "file_extension": ".py",
   "mimetype": "text/x-python",
   "name": "python",
   "nbconvert_exporter": "python",
   "pygments_lexer": "ipython3",
   "version": "3.8.3"
  }
 },
 "nbformat": 4,
 "nbformat_minor": 4
}
