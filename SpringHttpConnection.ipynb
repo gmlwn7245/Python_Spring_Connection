{
 "cells": [
  {
   "cell_type": "code",
   "execution_count": 8,
   "metadata": {},
   "outputs": [],
   "source": [
    "from flask import Flask"
   ]
  },
  {
   "cell_type": "code",
   "execution_count": 20,
   "metadata": {},
   "outputs": [],
   "source": [
    "app = Flask(__name__)"
   ]
  },
  {
   "cell_type": "code",
   "execution_count": 21,
   "metadata": {},
   "outputs": [],
   "source": [
    "@app.route('/getPhoto')\n",
    "def getPhoto():\n",
    "    return \"Photo Scan success\""
   ]
  },
  {
   "cell_type": "code",
   "execution_count": 22,
   "metadata": {},
   "outputs": [],
   "source": [
    "@app.route('/getWeather')\n",
    "def getWeather():\n",
    "    return \"Fee Predict success\""
   ]
  },
  {
   "cell_type": "code",
   "execution_count": 24,
   "metadata": {},
   "outputs": [
    {
     "name": "stdout",
     "output_type": "stream",
     "text": [
      " * Serving Flask app \"__main__\" (lazy loading)\n",
      " * Environment: production\n",
      "   WARNING: This is a development server. Do not use it in a production deployment.\n",
      "   Use a production WSGI server instead.\n",
      " * Debug mode: off\n"
     ]
    },
    {
     "name": "stderr",
     "output_type": "stream",
     "text": [
      " * Running on http://0.0.0.0:5000/ (Press CTRL+C to quit)\n",
      "192.168.219.107 - - [21/May/2022 22:51:28] \"\u001b[37mGET /getWeather HTTP/1.1\u001b[0m\" 200 -\n",
      "192.168.219.107 - - [21/May/2022 22:51:28] \"\u001b[33mGET /favicon.ico HTTP/1.1\u001b[0m\" 404 -\n",
      "192.168.219.107 - - [21/May/2022 22:51:50] \"\u001b[37mGET /getWeather HTTP/1.1\u001b[0m\" 200 -\n",
      "192.168.219.107 - - [21/May/2022 22:52:15] \"\u001b[33mGET /getPhoyo HTTP/1.1\u001b[0m\" 404 -\n",
      "192.168.219.107 - - [21/May/2022 22:52:19] \"\u001b[37mGET /getPhoto HTTP/1.1\u001b[0m\" 200 -\n"
     ]
    }
   ],
   "source": [
    "# 모든 host에서 접근 가능\n",
    "if __name__ == '__main__':\n",
    "    app.run(host='0.0.0.0')"
   ]
  }
 ],
 "metadata": {
  "kernelspec": {
   "display_name": "Python 3",
   "language": "python",
   "name": "python3"
  },
  "language_info": {
   "codemirror_mode": {
    "name": "ipython",
    "version": 3
   },
   "file_extension": ".py",
   "mimetype": "text/x-python",
   "name": "python",
   "nbconvert_exporter": "python",
   "pygments_lexer": "ipython3",
   "version": "3.8.3"
  }
 },
 "nbformat": 4,
 "nbformat_minor": 4
}
